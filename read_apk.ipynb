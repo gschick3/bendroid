{
 "cells": [
  {
   "cell_type": "markdown",
   "metadata": {},
   "source": [
    "## Utility Functions"
   ]
  },
  {
   "cell_type": "code",
   "execution_count": 42,
   "metadata": {},
   "outputs": [],
   "source": [
    "from math import floor, log10\n",
    "from collections import Counter\n",
    "import pandas as pd\n",
    "from sklearn.metrics import mean_absolute_error\n",
    "\n",
    "benford = pd.DataFrame(\n",
    "    {\n",
    "        'digit': [1, 2, 3, 4, 5, 6, 7, 8, 9],\n",
    "        'freq': [.301, .176, .125, .097, .079, .067, .058, .051, .046]\n",
    "    })\n",
    "\n",
    "def get_first_digit(i: int):\n",
    "    if i == 0:\n",
    "        return 0\n",
    "    return floor(i / (10 ** floor(log10(i))))\n",
    "\n",
    "def data_to_df(data: list[int]) -> pd.DataFrame:\n",
    "    # Take list of data points and return dataframe of first digit frequencies as percentages\n",
    "    range_to_fill = range(1, 10)\n",
    "    fd = [get_first_digit(d) for d in data]\n",
    "    counts = Counter({key: Counter(fd)[key] for key in range_to_fill})\n",
    "    df = pd.DataFrame(counts.items(), columns=['digit', 'freq'])\n",
    "    df = df[df['digit'] != 0]\n",
    "    total = df['freq'].sum()\n",
    "    df['freq'] = df['freq'].astype(float)\n",
    "    df['freq'] /= total\n",
    "    return df.copy()"
   ]
  },
  {
   "cell_type": "markdown",
   "metadata": {},
   "source": [
    "## Lengths of constant strings"
   ]
  },
  {
   "cell_type": "code",
   "execution_count": 43,
   "metadata": {},
   "outputs": [],
   "source": [
    "def score_string_length(analysis):\n",
    "    strings = analysis.get_strings()  # dex[0].get_strings()\n",
    "    strings = [s.get_value() for s in strings]\n",
    "    strings = list(map(str.strip, strings))\n",
    "\n",
    "    data = list(map(len, strings))\n",
    "\n",
    "    return benford_score(data)"
   ]
  },
  {
   "cell_type": "markdown",
   "metadata": {},
   "source": [
    "## Sum of Decimal encoded characters of constant strings"
   ]
  },
  {
   "cell_type": "code",
   "execution_count": 44,
   "metadata": {},
   "outputs": [],
   "source": [
    "def sum_of_chars(s):\n",
    "    return sum(ord(c) for c in s)\n",
    "\n",
    "def score_string_value(analysis):\n",
    "    strings = analysis.get_strings()  # dex[0].get_strings()\n",
    "    strings = [s.get_value() for s in strings]\n",
    "\n",
    "    strings = list(map(str.strip, strings))\n",
    "\n",
    "    data = list(map(sum_of_chars, strings))\n",
    "\n",
    "    return benford_score(data)"
   ]
  },
  {
   "cell_type": "markdown",
   "metadata": {},
   "source": [
    "## Lengths of methods"
   ]
  },
  {
   "cell_type": "code",
   "execution_count": 45,
   "metadata": {},
   "outputs": [],
   "source": [
    "def score_method_lengths(analysis):\n",
    "    methods = analysis.get_methods()\n",
    "\n",
    "    # The above get_methods() method returns a deprecated type, so we get_method() again below to return a usable type.\n",
    "    # External methods don't have available lengths, so we skip past them\n",
    "    method_lengths = [method.get_method().get_length() for method in methods if not method.is_external()]\n",
    "\n",
    "    return benford_score(method_lengths)"
   ]
  },
  {
   "cell_type": "markdown",
   "metadata": {},
   "source": [
    "## Number of fields in a class"
   ]
  },
  {
   "cell_type": "code",
   "execution_count": 46,
   "metadata": {},
   "outputs": [],
   "source": [
    "def score_class_fields(analysis):\n",
    "    classes = analysis.get_internal_classes()\n",
    "\n",
    "    fields = [c.get_fields() for c in classes]\n",
    "\n",
    "    fields_count = map(len, fields)\n",
    "\n",
    "    return benford_score(fields_count)"
   ]
  },
  {
   "cell_type": "markdown",
   "metadata": {},
   "source": [
    "## Number of methods in a class"
   ]
  },
  {
   "cell_type": "code",
   "execution_count": 47,
   "metadata": {},
   "outputs": [],
   "source": [
    "def score_class_methods(analysis):\n",
    "    classes = analysis.get_internal_classes()\n",
    "    methods = [c.get_methods() for c in classes]\n",
    "    methods_count = map(len, methods)\n",
    "    return benford_score(methods_count)"
   ]
  },
  {
   "cell_type": "markdown",
   "metadata": {},
   "source": [
    "## Bytes -> Hex -> Decimal of classes.dex file"
   ]
  },
  {
   "cell_type": "code",
   "execution_count": 48,
   "metadata": {},
   "outputs": [],
   "source": [
    "def score_classes_dex(apk):\n",
    "    all_classes = apk.get_all_dex()\n",
    "\n",
    "    byte = [int(c, 16) for classes in all_classes for c in classes.hex(sep=' ').split(' ')]\n",
    "\n",
    "    return benford_score(byte)"
   ]
  },
  {
   "cell_type": "markdown",
   "metadata": {},
   "source": [
    "## Scoring Utility"
   ]
  },
  {
   "cell_type": "code",
   "execution_count": 49,
   "metadata": {},
   "outputs": [],
   "source": [
    "import progressbar\n",
    "import os\n",
    "from androguard.misc import AnalyzeAPK\n",
    "\n",
    "def benford_score(data: list[int]):\n",
    "    df = data_to_df(data).copy()\n",
    "    df = pd.merge(benford, df, on='digit', suffixes=['1', '2'])\n",
    "    \n",
    "    return round(mean_absolute_error(df['freq1'], df['freq2']), 4)\n",
    "\n",
    "def score_all(analysis, apk):\n",
    "    fields = ['str_len', 'str_val', 'method_len', 'class_fields', 'class_methods', 'classes_dex']\n",
    "    \n",
    "    scores = [\n",
    "        [score_string_length(analysis)],\n",
    "        [score_string_value(analysis)],\n",
    "        [score_method_lengths(analysis)],\n",
    "        [score_class_fields(analysis)],\n",
    "        [score_class_methods(analysis)],\n",
    "        [score_classes_dex(apk)],\n",
    "    ]\n",
    "\n",
    "    data = dict(zip(fields, scores))\n",
    "    df = pd.DataFrame.from_dict(data, )\n",
    "\n",
    "    return df.copy()\n",
    "\n",
    "def score_directory(dir_name):\n",
    "    df = pd.DataFrame()\n",
    "\n",
    "    progress = progressbar.ProgressBar(max_value=len(os.listdir(dir_name)))\n",
    "\n",
    "    for i, file in enumerate(os.listdir(dir_name)):\n",
    "        file_path = os.path.join(dir_name, file)\n",
    "        apk,dex,analysis = AnalyzeAPK(file_path)\n",
    "\n",
    "        try:\n",
    "            scores = score_all(analysis, apk)\n",
    "            df = pd.concat([df, scores])\n",
    "        except:\n",
    "            print(\"Excluding APK:\", file)\n",
    "        \n",
    "        progress.update(i+1)\n",
    "\n",
    "    progress.finish()\n",
    "\n",
    "    return df.reset_index(drop=True)"
   ]
  },
  {
   "cell_type": "markdown",
   "metadata": {},
   "source": [
    "## Score Benign APKs"
   ]
  },
  {
   "cell_type": "code",
   "execution_count": 50,
   "metadata": {},
   "outputs": [
    {
     "name": "stderr",
     "output_type": "stream",
     "text": [
      "  0% (0 of 10) |                         | Elapsed Time: 0:00:00 ETA:  --:--:--\n",
      " 20% (2 of 10) |#####                    | Elapsed Time: 0:00:12 ETA:   0:00:49\n",
      "Requested API level 30 is larger than maximum we have, returning API level 28 instead.\n",
      " 30% (3 of 10) |#######                  | Elapsed Time: 0:03:01 ETA:   0:19:40\n",
      " 40% (4 of 10) |##########               | Elapsed Time: 0:03:16 ETA:   0:01:33\n",
      " 50% (5 of 10) |############             | Elapsed Time: 0:04:27 ETA:   0:05:56\n",
      "Requested API level 29 is larger than maximum we have, returning API level 28 instead.\n",
      " 60% (6 of 10) |###############          | Elapsed Time: 0:04:49 ETA:   0:01:24\n",
      " 70% (7 of 10) |#################        | Elapsed Time: 0:04:58 ETA:   0:00:29\n",
      " 80% (8 of 10) |####################     | Elapsed Time: 0:05:11 ETA:   0:00:24\n",
      "Requested API level 31 is larger than maximum we have, returning API level 28 instead.\n",
      " 90% (9 of 10) |######################   | Elapsed Time: 0:05:59 ETA:   0:00:48\n",
      "Requested API level 32 is larger than maximum we have, returning API level 28 instead.\n",
      "100% (10 of 10) |########################| Elapsed Time: 0:07:46 ETA:  00:00:00\n",
      "100% (10 of 10) |########################| Elapsed Time: 0:07:46 Time:  0:07:46\n"
     ]
    }
   ],
   "source": [
    "import configparser\n",
    "\n",
    "config = configparser.ConfigParser(interpolation=configparser.ExtendedInterpolation(), allow_no_value=True)\n",
    "config.read('config.ini')\n",
    "\n",
    "BENIGN_DIR = config['PATHS']['benign_dir']\n",
    "\n",
    "benign_df = score_directory(BENIGN_DIR)"
   ]
  },
  {
   "cell_type": "markdown",
   "metadata": {},
   "source": [
    "## Score Malign APKs"
   ]
  },
  {
   "cell_type": "code",
   "execution_count": 51,
   "metadata": {},
   "outputs": [
    {
     "name": "stderr",
     "output_type": "stream",
     "text": [
      "  0% (0 of 10) |                         | Elapsed Time: 0:00:00 ETA:  --:--:--\n",
      " 20% (2 of 10) |#####                    | Elapsed Time: 0:00:00 ETA:   0:00:00\n",
      " 30% (3 of 10) |#######                  | Elapsed Time: 0:00:06 ETA:   0:00:46\n",
      " 40% (4 of 10) |##########               | Elapsed Time: 0:00:06 ETA:   0:00:20\n"
     ]
    },
    {
     "name": "stdout",
     "output_type": "stream",
     "text": [
      "Excluding APK: 000027D1DA96332EFCB54AF76906A7298121EBCCCDAB3D7DCE999F8043E74EE7.apk\n"
     ]
    },
    {
     "name": "stderr",
     "output_type": "stream",
     "text": [
      " 50% (5 of 10) |############             | Elapsed Time: 0:00:08 ETA:   0:00:13\n",
      " 60% (6 of 10) |###############          | Elapsed Time: 0:00:11 ETA:   0:00:13\n",
      " 70% (7 of 10) |#################        | Elapsed Time: 0:00:22 ETA:   0:00:33\n",
      " 80% (8 of 10) |####################     | Elapsed Time: 0:00:24 ETA:   0:00:13\n",
      " 90% (9 of 10) |######################   | Elapsed Time: 0:00:29 ETA:   0:00:04\n",
      "100% (10 of 10) |########################| Elapsed Time: 0:00:29 ETA:  00:00:00\n",
      "100% (10 of 10) |########################| Elapsed Time: 0:00:29 Time:  0:00:29\n"
     ]
    }
   ],
   "source": [
    "import configparser\n",
    "\n",
    "config = configparser.ConfigParser(interpolation=configparser.ExtendedInterpolation(), allow_no_value=True)\n",
    "config.read('config.ini')\n",
    "\n",
    "MALIGN_DIR = config['PATHS']['malign_dir']\n",
    "malign_df = score_directory(MALIGN_DIR)"
   ]
  },
  {
   "cell_type": "markdown",
   "metadata": {},
   "source": [
    "## Combine benign and malign DFs"
   ]
  },
  {
   "cell_type": "code",
   "execution_count": 56,
   "metadata": {},
   "outputs": [],
   "source": [
    "import pandas as pd\n",
    "\n",
    "benign_df['malign'] = 0\n",
    "malign_df['malign'] = 1\n",
    "\n",
    "df = pd.concat([benign_df, malign_df]).reset_index(drop=True)\n",
    "df.to_csv(os.path.join(config['PATHS']['apk_dir'], 'data.csv'), index=False)"
   ]
  }
 ],
 "metadata": {
  "kernelspec": {
   "display_name": "onr-android-malware",
   "language": "python",
   "name": "python3"
  },
  "language_info": {
   "codemirror_mode": {
    "name": "ipython",
    "version": 3
   },
   "file_extension": ".py",
   "mimetype": "text/x-python",
   "name": "python",
   "nbconvert_exporter": "python",
   "pygments_lexer": "ipython3",
   "version": "3.9.18"
  },
  "orig_nbformat": 4
 },
 "nbformat": 4,
 "nbformat_minor": 2
}

{
 "cells": [
  {
   "cell_type": "markdown",
   "metadata": {},
   "source": [
    "## Utility Functions"
   ]
  },
  {
   "cell_type": "code",
   "execution_count": 22,
   "metadata": {},
   "outputs": [],
   "source": [
    "from math import floor, log10\n",
    "from collections import Counter\n",
    "import pandas as pd\n",
    "from sklearn.metrics import mean_absolute_error\n",
    "\n",
    "benford = pd.DataFrame(\n",
    "    {\n",
    "        'digit': [1, 2, 3, 4, 5, 6, 7, 8, 9],\n",
    "        'freq': [.301, .176, .125, .097, .079, .067, .058, .051, .046]\n",
    "    })\n",
    "\n",
    "def get_first_digit(i: int):\n",
    "    if i == 0:\n",
    "        return 0\n",
    "    return floor(i / (10 ** floor(log10(i))))\n",
    "\n",
    "def benford_score(data: list[int]):\n",
    "    df = data_to_df(data).copy()\n",
    "    df = pd.merge(benford, df, on='digit', suffixes=['1', '2'])\n",
    "    return round(mean_absolute_error(df['freq1'], df['freq2']), 4)\n",
    "\n",
    "def data_to_df(data: list[int]) -> pd.DataFrame:\n",
    "    # Take list of data points and return dataframe of first digit frequencies as percentages\n",
    "    fd = [get_first_digit(d) for d in data]\n",
    "    df = pd.DataFrame(Counter(fd).items(), columns=['digit', 'freq'])\n",
    "    df = df[df['digit'] != 0]\n",
    "    total = df['freq'].sum()\n",
    "    df['freq'] = df['freq'].astype(float)\n",
    "    df['freq'] /= total\n",
    "    return df.copy()"
   ]
  },
  {
   "cell_type": "markdown",
   "metadata": {},
   "source": [
    "## Lengths of constant strings"
   ]
  },
  {
   "cell_type": "code",
   "execution_count": 23,
   "metadata": {},
   "outputs": [],
   "source": [
    "def score_string_length(analysis):\n",
    "    strings = analysis.get_strings()  # dex[0].get_strings()\n",
    "    strings = [s.get_value() for s in strings]\n",
    "    strings = list(map(str.strip, strings))\n",
    "\n",
    "    data = list(map(len, strings))\n",
    "\n",
    "    return benford_score(data)"
   ]
  },
  {
   "cell_type": "markdown",
   "metadata": {},
   "source": [
    "## Sum of Decimal encoded characters of constant strings"
   ]
  },
  {
   "cell_type": "code",
   "execution_count": 24,
   "metadata": {},
   "outputs": [],
   "source": [
    "def sum_of_chars(s):\n",
    "    return sum(ord(c) for c in s)\n",
    "\n",
    "def score_string_value(analysis):\n",
    "    strings = analysis.get_strings()  # dex[0].get_strings()\n",
    "    strings = [s.get_value() for s in strings]\n",
    "\n",
    "    strings = list(map(str.strip, strings))\n",
    "\n",
    "    data = list(map(sum_of_chars, strings))\n",
    "\n",
    "    return benford_score(data)"
   ]
  },
  {
   "cell_type": "markdown",
   "metadata": {},
   "source": [
    "## Lengths of methods"
   ]
  },
  {
   "cell_type": "code",
   "execution_count": 25,
   "metadata": {},
   "outputs": [],
   "source": [
    "def score_method_lengths(analysis):\n",
    "    methods = analysis.get_methods()\n",
    "\n",
    "    # The above get_methods() method returns a deprecated type, so we get_method() again below to return a usable type.\n",
    "    # External methods don't have available lengths, so we skip past them\n",
    "    method_lengths = [method.get_method().get_length() for method in methods if not method.is_external()]\n",
    "\n",
    "    return benford_score(method_lengths)"
   ]
  },
  {
   "cell_type": "markdown",
   "metadata": {},
   "source": [
    "## Number of fields in a class"
   ]
  },
  {
   "cell_type": "code",
   "execution_count": 26,
   "metadata": {},
   "outputs": [],
   "source": [
    "def score_class_fields(analysis):\n",
    "    classes = analysis.get_internal_classes()\n",
    "\n",
    "    fields = [c.get_fields() for c in classes]\n",
    "\n",
    "    fields_count = map(len, fields)\n",
    "\n",
    "    return benford_score(fields_count)"
   ]
  },
  {
   "cell_type": "markdown",
   "metadata": {},
   "source": [
    "## Number of methods in a class"
   ]
  },
  {
   "cell_type": "code",
   "execution_count": 27,
   "metadata": {},
   "outputs": [],
   "source": [
    "def score_class_methods(analysis):\n",
    "    classes = analysis.get_internal_classes()\n",
    "    methods = [c.get_methods() for c in classes]\n",
    "    methods_count = map(len, methods)\n",
    "    return benford_score(methods_count)"
   ]
  },
  {
   "cell_type": "markdown",
   "metadata": {},
   "source": [
    "## Bytes -> Hex -> Decimal of classes.dex file"
   ]
  },
  {
   "cell_type": "code",
   "execution_count": 28,
   "metadata": {},
   "outputs": [],
   "source": [
    "def score_classes_dex(apk):\n",
    "    all_classes = apk.get_all_dex()\n",
    "\n",
    "    byte = [int(c, 16) for classes in all_classes for c in classes.hex(sep=' ').split(' ')]\n",
    "\n",
    "    return benford_score(byte)"
   ]
  },
  {
   "cell_type": "markdown",
   "metadata": {},
   "source": [
    "## Scoring Utility"
   ]
  },
  {
   "cell_type": "code",
   "execution_count": 29,
   "metadata": {},
   "outputs": [],
   "source": [
    "import progressbar\n",
    "import os\n",
    "from androguard.misc import AnalyzeAPK\n",
    "\n",
    "def score_all(analysis, apk):\n",
    "    fields = ['str_len', 'str_val', 'method_len', 'class_fields', 'class_methods', 'classes_dex']\n",
    "    \n",
    "    scores = [\n",
    "        [score_string_length(analysis)],\n",
    "        [score_string_value(analysis)],\n",
    "        [score_method_lengths(analysis)],\n",
    "        [score_class_fields(analysis)],\n",
    "        [score_class_methods(analysis)],\n",
    "        [score_classes_dex(apk)],\n",
    "    ]\n",
    "\n",
    "    data = dict(zip(fields, scores))\n",
    "    df = pd.DataFrame.from_dict(data, )\n",
    "\n",
    "    return df.copy()\n",
    "\n",
    "def score_directory(dir_name):\n",
    "    df = pd.DataFrame()\n",
    "\n",
    "    progress = progressbar.ProgressBar(max_value=len(os.listdir(dir_name)))\n",
    "\n",
    "    for i, file in enumerate(os.listdir(dir_name)):\n",
    "        file_path = os.path.join(dir_name, file)\n",
    "        apk,dex,analysis = AnalyzeAPK(file_path)\n",
    "\n",
    "        df = pd.concat([df, score_all(analysis, apk)])\n",
    "        \n",
    "        progress.update(i+1)\n",
    "\n",
    "    progress.finish()\n",
    "\n",
    "    return(pd.DataFrame(df.mean(), columns=['Mean']))"
   ]
  },
  {
   "cell_type": "markdown",
   "metadata": {},
   "source": [
    "## Score Benign APKs"
   ]
  },
  {
   "cell_type": "code",
   "execution_count": 30,
   "metadata": {},
   "outputs": [
    {
     "name": "stderr",
     "output_type": "stream",
     "text": [
      "  0% (0 of 10) |                         | Elapsed Time: 0:00:00 ETA:  --:--:--\n",
      " 20% (2 of 10) |#####                    | Elapsed Time: 0:00:16 ETA:   0:01:05\n",
      "Requested API level 30 is larger than maximum we have, returning API level 28 instead.\n",
      " 30% (3 of 10) |#######                  | Elapsed Time: 0:04:15 ETA:   0:27:56\n",
      " 40% (4 of 10) |##########               | Elapsed Time: 0:04:29 ETA:   0:01:22\n",
      " 50% (5 of 10) |############             | Elapsed Time: 0:08:00 ETA:   0:17:36\n",
      "Requested API level 29 is larger than maximum we have, returning API level 28 instead.\n",
      " 60% (6 of 10) |###############          | Elapsed Time: 0:08:22 ETA:   0:01:25\n",
      " 70% (7 of 10) |#################        | Elapsed Time: 0:08:33 ETA:   0:00:34\n",
      " 80% (8 of 10) |####################     | Elapsed Time: 0:09:36 ETA:   0:02:05\n",
      "Requested API level 31 is larger than maximum we have, returning API level 28 instead.\n",
      " 90% (9 of 10) |######################   | Elapsed Time: 0:10:37 ETA:   0:01:00\n",
      "Requested API level 32 is larger than maximum we have, returning API level 28 instead.\n",
      "100% (10 of 10) |########################| Elapsed Time: 0:13:45 ETA:  00:00:00\n",
      "100% (10 of 10) |########################| Elapsed Time: 0:13:45 Time:  0:13:45\n"
     ]
    },
    {
     "ename": "KeyError",
     "evalue": "\"['index'] not found in axis\"",
     "output_type": "error",
     "traceback": [
      "\u001b[1;31m---------------------------------------------------------------------------\u001b[0m",
      "\u001b[1;31mKeyError\u001b[0m                                  Traceback (most recent call last)",
      "\u001b[1;32mc:\\Users\\gschi\\Documents\\Git\\Bendroid\\read_apk.ipynb Cell 19\u001b[0m line \u001b[0;36m8\n\u001b[0;32m      <a href='vscode-notebook-cell:/c%3A/Users/gschi/Documents/Git/Bendroid/read_apk.ipynb#X22sZmlsZQ%3D%3D?line=3'>4</a>\u001b[0m config\u001b[39m.\u001b[39mread(\u001b[39m'\u001b[39m\u001b[39mconfig.ini\u001b[39m\u001b[39m'\u001b[39m)\n\u001b[0;32m      <a href='vscode-notebook-cell:/c%3A/Users/gschi/Documents/Git/Bendroid/read_apk.ipynb#X22sZmlsZQ%3D%3D?line=5'>6</a>\u001b[0m BENIGN_DIR \u001b[39m=\u001b[39m config[\u001b[39m'\u001b[39m\u001b[39mPATHS\u001b[39m\u001b[39m'\u001b[39m][\u001b[39m'\u001b[39m\u001b[39mbenign_dir\u001b[39m\u001b[39m'\u001b[39m]\n\u001b[1;32m----> <a href='vscode-notebook-cell:/c%3A/Users/gschi/Documents/Git/Bendroid/read_apk.ipynb#X22sZmlsZQ%3D%3D?line=7'>8</a>\u001b[0m \u001b[39mprint\u001b[39m(score_directory(BENIGN_DIR))\n",
      "\u001b[1;32mc:\\Users\\gschi\\Documents\\Git\\Bendroid\\read_apk.ipynb Cell 19\u001b[0m line \u001b[0;36m3\n\u001b[0;32m     <a href='vscode-notebook-cell:/c%3A/Users/gschi/Documents/Git/Bendroid/read_apk.ipynb#X22sZmlsZQ%3D%3D?line=32'>33</a>\u001b[0m     progress\u001b[39m.\u001b[39mupdate(i\u001b[39m+\u001b[39m\u001b[39m1\u001b[39m)\n\u001b[0;32m     <a href='vscode-notebook-cell:/c%3A/Users/gschi/Documents/Git/Bendroid/read_apk.ipynb#X22sZmlsZQ%3D%3D?line=34'>35</a>\u001b[0m progress\u001b[39m.\u001b[39mfinish()\n\u001b[1;32m---> <a href='vscode-notebook-cell:/c%3A/Users/gschi/Documents/Git/Bendroid/read_apk.ipynb#X22sZmlsZQ%3D%3D?line=36'>37</a>\u001b[0m \u001b[39mreturn\u001b[39;00m(pd\u001b[39m.\u001b[39;49mDataFrame(df\u001b[39m.\u001b[39;49mmean(), columns\u001b[39m=\u001b[39;49m[\u001b[39m'\u001b[39;49m\u001b[39mMean\u001b[39;49m\u001b[39m'\u001b[39;49m])\u001b[39m.\u001b[39;49mdrop(\u001b[39m'\u001b[39;49m\u001b[39mindex\u001b[39;49m\u001b[39m'\u001b[39;49m, axis\u001b[39m=\u001b[39;49m\u001b[39m0\u001b[39;49m))\n",
      "File \u001b[1;32mc:\\Users\\gschi\\miniconda3\\envs\\onr-android-malware\\lib\\site-packages\\pandas\\core\\frame.py:5347\u001b[0m, in \u001b[0;36mDataFrame.drop\u001b[1;34m(self, labels, axis, index, columns, level, inplace, errors)\u001b[0m\n\u001b[0;32m   5199\u001b[0m \u001b[39mdef\u001b[39;00m \u001b[39mdrop\u001b[39m(\n\u001b[0;32m   5200\u001b[0m     \u001b[39mself\u001b[39m,\n\u001b[0;32m   5201\u001b[0m     labels: IndexLabel \u001b[39m|\u001b[39m \u001b[39mNone\u001b[39;00m \u001b[39m=\u001b[39m \u001b[39mNone\u001b[39;00m,\n\u001b[1;32m   (...)\u001b[0m\n\u001b[0;32m   5208\u001b[0m     errors: IgnoreRaise \u001b[39m=\u001b[39m \u001b[39m\"\u001b[39m\u001b[39mraise\u001b[39m\u001b[39m\"\u001b[39m,\n\u001b[0;32m   5209\u001b[0m ) \u001b[39m-\u001b[39m\u001b[39m>\u001b[39m DataFrame \u001b[39m|\u001b[39m \u001b[39mNone\u001b[39;00m:\n\u001b[0;32m   5210\u001b[0m \u001b[39m    \u001b[39m\u001b[39m\"\"\"\u001b[39;00m\n\u001b[0;32m   5211\u001b[0m \u001b[39m    Drop specified labels from rows or columns.\u001b[39;00m\n\u001b[0;32m   5212\u001b[0m \n\u001b[1;32m   (...)\u001b[0m\n\u001b[0;32m   5345\u001b[0m \u001b[39m            weight  1.0     0.8\u001b[39;00m\n\u001b[0;32m   5346\u001b[0m \u001b[39m    \"\"\"\u001b[39;00m\n\u001b[1;32m-> 5347\u001b[0m     \u001b[39mreturn\u001b[39;00m \u001b[39msuper\u001b[39;49m()\u001b[39m.\u001b[39;49mdrop(\n\u001b[0;32m   5348\u001b[0m         labels\u001b[39m=\u001b[39;49mlabels,\n\u001b[0;32m   5349\u001b[0m         axis\u001b[39m=\u001b[39;49maxis,\n\u001b[0;32m   5350\u001b[0m         index\u001b[39m=\u001b[39;49mindex,\n\u001b[0;32m   5351\u001b[0m         columns\u001b[39m=\u001b[39;49mcolumns,\n\u001b[0;32m   5352\u001b[0m         level\u001b[39m=\u001b[39;49mlevel,\n\u001b[0;32m   5353\u001b[0m         inplace\u001b[39m=\u001b[39;49minplace,\n\u001b[0;32m   5354\u001b[0m         errors\u001b[39m=\u001b[39;49merrors,\n\u001b[0;32m   5355\u001b[0m     )\n",
      "File \u001b[1;32mc:\\Users\\gschi\\miniconda3\\envs\\onr-android-malware\\lib\\site-packages\\pandas\\core\\generic.py:4711\u001b[0m, in \u001b[0;36mNDFrame.drop\u001b[1;34m(self, labels, axis, index, columns, level, inplace, errors)\u001b[0m\n\u001b[0;32m   4709\u001b[0m \u001b[39mfor\u001b[39;00m axis, labels \u001b[39min\u001b[39;00m axes\u001b[39m.\u001b[39mitems():\n\u001b[0;32m   4710\u001b[0m     \u001b[39mif\u001b[39;00m labels \u001b[39mis\u001b[39;00m \u001b[39mnot\u001b[39;00m \u001b[39mNone\u001b[39;00m:\n\u001b[1;32m-> 4711\u001b[0m         obj \u001b[39m=\u001b[39m obj\u001b[39m.\u001b[39;49m_drop_axis(labels, axis, level\u001b[39m=\u001b[39;49mlevel, errors\u001b[39m=\u001b[39;49merrors)\n\u001b[0;32m   4713\u001b[0m \u001b[39mif\u001b[39;00m inplace:\n\u001b[0;32m   4714\u001b[0m     \u001b[39mself\u001b[39m\u001b[39m.\u001b[39m_update_inplace(obj)\n",
      "File \u001b[1;32mc:\\Users\\gschi\\miniconda3\\envs\\onr-android-malware\\lib\\site-packages\\pandas\\core\\generic.py:4753\u001b[0m, in \u001b[0;36mNDFrame._drop_axis\u001b[1;34m(self, labels, axis, level, errors, only_slice)\u001b[0m\n\u001b[0;32m   4751\u001b[0m         new_axis \u001b[39m=\u001b[39m axis\u001b[39m.\u001b[39mdrop(labels, level\u001b[39m=\u001b[39mlevel, errors\u001b[39m=\u001b[39merrors)\n\u001b[0;32m   4752\u001b[0m     \u001b[39melse\u001b[39;00m:\n\u001b[1;32m-> 4753\u001b[0m         new_axis \u001b[39m=\u001b[39m axis\u001b[39m.\u001b[39;49mdrop(labels, errors\u001b[39m=\u001b[39;49merrors)\n\u001b[0;32m   4754\u001b[0m     indexer \u001b[39m=\u001b[39m axis\u001b[39m.\u001b[39mget_indexer(new_axis)\n\u001b[0;32m   4756\u001b[0m \u001b[39m# Case for non-unique axis\u001b[39;00m\n\u001b[0;32m   4757\u001b[0m \u001b[39melse\u001b[39;00m:\n",
      "File \u001b[1;32mc:\\Users\\gschi\\miniconda3\\envs\\onr-android-malware\\lib\\site-packages\\pandas\\core\\indexes\\base.py:6992\u001b[0m, in \u001b[0;36mIndex.drop\u001b[1;34m(self, labels, errors)\u001b[0m\n\u001b[0;32m   6990\u001b[0m \u001b[39mif\u001b[39;00m mask\u001b[39m.\u001b[39many():\n\u001b[0;32m   6991\u001b[0m     \u001b[39mif\u001b[39;00m errors \u001b[39m!=\u001b[39m \u001b[39m\"\u001b[39m\u001b[39mignore\u001b[39m\u001b[39m\"\u001b[39m:\n\u001b[1;32m-> 6992\u001b[0m         \u001b[39mraise\u001b[39;00m \u001b[39mKeyError\u001b[39;00m(\u001b[39mf\u001b[39m\u001b[39m\"\u001b[39m\u001b[39m{\u001b[39;00mlabels[mask]\u001b[39m.\u001b[39mtolist()\u001b[39m}\u001b[39;00m\u001b[39m not found in axis\u001b[39m\u001b[39m\"\u001b[39m)\n\u001b[0;32m   6993\u001b[0m     indexer \u001b[39m=\u001b[39m indexer[\u001b[39m~\u001b[39mmask]\n\u001b[0;32m   6994\u001b[0m \u001b[39mreturn\u001b[39;00m \u001b[39mself\u001b[39m\u001b[39m.\u001b[39mdelete(indexer)\n",
      "\u001b[1;31mKeyError\u001b[0m: \"['index'] not found in axis\""
     ]
    }
   ],
   "source": [
    "import configparser\n",
    "\n",
    "config = configparser.ConfigParser(interpolation=configparser.ExtendedInterpolation(), allow_no_value=True)\n",
    "config.read('config.ini')\n",
    "\n",
    "BENIGN_DIR = config['PATHS']['benign_dir']\n",
    "\n",
    "print(score_directory(BENIGN_DIR))"
   ]
  },
  {
   "cell_type": "markdown",
   "metadata": {},
   "source": [
    "## Score Malign APKs"
   ]
  },
  {
   "cell_type": "code",
   "execution_count": null,
   "metadata": {},
   "outputs": [],
   "source": [
    "import configparser\n",
    "\n",
    "config = configparser.ConfigParser(interpolation=configparser.ExtendedInterpolation(), allow_no_value=True)\n",
    "config.read('config.ini')\n",
    "\n",
    "MALIGN_DIR = config['PATHS']['malign_dir']\n",
    "print(score_directory(MALIGN_DIR))"
   ]
  }
 ],
 "metadata": {
  "kernelspec": {
   "display_name": "onr-android-malware",
   "language": "python",
   "name": "python3"
  },
  "language_info": {
   "codemirror_mode": {
    "name": "ipython",
    "version": 3
   },
   "file_extension": ".py",
   "mimetype": "text/x-python",
   "name": "python",
   "nbconvert_exporter": "python",
   "pygments_lexer": "ipython3",
   "version": "3.9.18"
  },
  "orig_nbformat": 4
 },
 "nbformat": 4,
 "nbformat_minor": 2
}

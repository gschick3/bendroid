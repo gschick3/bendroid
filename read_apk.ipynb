{
 "cells": [
  {
   "cell_type": "code",
   "execution_count": 15,
   "metadata": {},
   "outputs": [],
   "source": [
    "from androguard.misc import AnalyzeAPK\n",
    "\n",
    "file_path = \"APKs/malign/7C54C79F01EEEA7256A1423C864DEC150760DFCB1662BC36CEB18739C4D1B507.apk\"#\"APKs/benign/2F8901939F60A55DAA7D8009A8D55A8CE3AA50C2CBB9FDCF00A35DE223C8DF70.apk\"#\n",
    "apk, dex, analysis = AnalyzeAPK(file_path)"
   ]
  },
  {
   "cell_type": "markdown",
   "metadata": {},
   "source": [
    "## Utility Functions"
   ]
  },
  {
   "cell_type": "code",
   "execution_count": 2,
   "metadata": {},
   "outputs": [],
   "source": [
    "from math import floor, log10\n",
    "from collections import Counter\n",
    "import pandas as pd\n",
    "\n",
    "# Standard Benford's Law propability distribution\n",
    "benford = {1: .301, \n",
    "           2: .176, \n",
    "           3: .125, \n",
    "           4: .097, \n",
    "           5: .079, \n",
    "           6: .067, \n",
    "           7: .058, \n",
    "           8: .051, \n",
    "           9: .046}\n",
    "\n",
    "def get_first_digit(i: int):\n",
    "    if i == 0:\n",
    "        return 0\n",
    "    return floor(i / (10 ** floor(log10(i))))\n",
    "\n",
    "# Take list of data points and return dataframe of first digit frequencies as percentages\n",
    "def data_to_df(data: list[int]) -> pd.DataFrame:\n",
    "    range_to_fill = range(1, 10)\n",
    "    fd = [get_first_digit(d) for d in data]\n",
    "    total = len(data)\n",
    "    if total == 0:\n",
    "        return pd.DataFrame()\n",
    "    counts = Counter({key: (Counter(fd)[key]/total) for key in range_to_fill})\n",
    "    df = pd.DataFrame([counts], columns=counts.keys())\n",
    "    return df.copy()"
   ]
  },
  {
   "cell_type": "markdown",
   "metadata": {},
   "source": [
    "## Lengths of constant strings"
   ]
  },
  {
   "cell_type": "code",
   "execution_count": 3,
   "metadata": {},
   "outputs": [
    {
     "data": {
      "text/html": [
       "<div>\n",
       "<style scoped>\n",
       "    .dataframe tbody tr th:only-of-type {\n",
       "        vertical-align: middle;\n",
       "    }\n",
       "\n",
       "    .dataframe tbody tr th {\n",
       "        vertical-align: top;\n",
       "    }\n",
       "\n",
       "    .dataframe thead th {\n",
       "        text-align: right;\n",
       "    }\n",
       "</style>\n",
       "<table border=\"1\" class=\"dataframe\">\n",
       "  <thead>\n",
       "    <tr style=\"text-align: right;\">\n",
       "      <th></th>\n",
       "      <th>1</th>\n",
       "      <th>2</th>\n",
       "      <th>3</th>\n",
       "      <th>4</th>\n",
       "      <th>5</th>\n",
       "      <th>6</th>\n",
       "      <th>7</th>\n",
       "      <th>8</th>\n",
       "      <th>9</th>\n",
       "    </tr>\n",
       "  </thead>\n",
       "  <tbody>\n",
       "    <tr>\n",
       "      <th>0</th>\n",
       "      <td>0.297287</td>\n",
       "      <td>0.195349</td>\n",
       "      <td>0.135659</td>\n",
       "      <td>0.104651</td>\n",
       "      <td>0.076357</td>\n",
       "      <td>0.059302</td>\n",
       "      <td>0.053876</td>\n",
       "      <td>0.037984</td>\n",
       "      <td>0.037597</td>\n",
       "    </tr>\n",
       "  </tbody>\n",
       "</table>\n",
       "</div>"
      ],
      "text/plain": [
       "          1         2         3         4         5         6         7  \\\n",
       "0  0.297287  0.195349  0.135659  0.104651  0.076357  0.059302  0.053876   \n",
       "\n",
       "          8         9  \n",
       "0  0.037984  0.037597  "
      ]
     },
     "execution_count": 3,
     "metadata": {},
     "output_type": "execute_result"
    }
   ],
   "source": [
    "strings = analysis.get_strings()  # dex[0].get_strings()\n",
    "strings = [s.get_value() for s in strings]\n",
    "strings = list(map(str.strip, strings))\n",
    "\n",
    "data = list(map(len, strings))\n",
    "\n",
    "data_to_df(data)"
   ]
  },
  {
   "cell_type": "markdown",
   "metadata": {},
   "source": [
    "## Sum of Decimal encoded characters of constant strings"
   ]
  },
  {
   "cell_type": "code",
   "execution_count": 4,
   "metadata": {},
   "outputs": [
    {
     "data": {
      "text/html": [
       "<div>\n",
       "<style scoped>\n",
       "    .dataframe tbody tr th:only-of-type {\n",
       "        vertical-align: middle;\n",
       "    }\n",
       "\n",
       "    .dataframe tbody tr th {\n",
       "        vertical-align: top;\n",
       "    }\n",
       "\n",
       "    .dataframe thead th {\n",
       "        text-align: right;\n",
       "    }\n",
       "</style>\n",
       "<table border=\"1\" class=\"dataframe\">\n",
       "  <thead>\n",
       "    <tr style=\"text-align: right;\">\n",
       "      <th></th>\n",
       "      <th>1</th>\n",
       "      <th>2</th>\n",
       "      <th>3</th>\n",
       "      <th>4</th>\n",
       "      <th>5</th>\n",
       "      <th>6</th>\n",
       "      <th>7</th>\n",
       "      <th>8</th>\n",
       "      <th>9</th>\n",
       "    </tr>\n",
       "  </thead>\n",
       "  <tbody>\n",
       "    <tr>\n",
       "      <th>0</th>\n",
       "      <td>0.291085</td>\n",
       "      <td>0.202713</td>\n",
       "      <td>0.137597</td>\n",
       "      <td>0.099612</td>\n",
       "      <td>0.075969</td>\n",
       "      <td>0.055814</td>\n",
       "      <td>0.052713</td>\n",
       "      <td>0.042636</td>\n",
       "      <td>0.039922</td>\n",
       "    </tr>\n",
       "  </tbody>\n",
       "</table>\n",
       "</div>"
      ],
      "text/plain": [
       "          1         2         3         4         5         6         7  \\\n",
       "0  0.291085  0.202713  0.137597  0.099612  0.075969  0.055814  0.052713   \n",
       "\n",
       "          8         9  \n",
       "0  0.042636  0.039922  "
      ]
     },
     "execution_count": 4,
     "metadata": {},
     "output_type": "execute_result"
    }
   ],
   "source": [
    "strings = analysis.get_strings()  # dex[0].get_strings()\n",
    "strings = [s.get_value() for s in strings]\n",
    "\n",
    "strings = list(map(str.strip, strings))\n",
    "\n",
    "data = list(map(lambda s: sum(ord(c) for c in s), strings))\n",
    "\n",
    "data_to_df(data)"
   ]
  },
  {
   "cell_type": "markdown",
   "metadata": {},
   "source": [
    "## Lengths of methods"
   ]
  },
  {
   "cell_type": "code",
   "execution_count": 5,
   "metadata": {},
   "outputs": [
    {
     "data": {
      "text/html": [
       "<div>\n",
       "<style scoped>\n",
       "    .dataframe tbody tr th:only-of-type {\n",
       "        vertical-align: middle;\n",
       "    }\n",
       "\n",
       "    .dataframe tbody tr th {\n",
       "        vertical-align: top;\n",
       "    }\n",
       "\n",
       "    .dataframe thead th {\n",
       "        text-align: right;\n",
       "    }\n",
       "</style>\n",
       "<table border=\"1\" class=\"dataframe\">\n",
       "  <thead>\n",
       "    <tr style=\"text-align: right;\">\n",
       "      <th></th>\n",
       "      <th>1</th>\n",
       "      <th>2</th>\n",
       "      <th>3</th>\n",
       "      <th>4</th>\n",
       "      <th>5</th>\n",
       "      <th>6</th>\n",
       "      <th>7</th>\n",
       "      <th>8</th>\n",
       "      <th>9</th>\n",
       "    </tr>\n",
       "  </thead>\n",
       "  <tbody>\n",
       "    <tr>\n",
       "      <th>0</th>\n",
       "      <td>0.241655</td>\n",
       "      <td>0.099428</td>\n",
       "      <td>0.101812</td>\n",
       "      <td>0.12506</td>\n",
       "      <td>0.070577</td>\n",
       "      <td>0.122079</td>\n",
       "      <td>0.082976</td>\n",
       "      <td>0.048879</td>\n",
       "      <td>0.038627</td>\n",
       "    </tr>\n",
       "  </tbody>\n",
       "</table>\n",
       "</div>"
      ],
      "text/plain": [
       "          1         2         3        4         5         6         7  \\\n",
       "0  0.241655  0.099428  0.101812  0.12506  0.070577  0.122079  0.082976   \n",
       "\n",
       "          8         9  \n",
       "0  0.048879  0.038627  "
      ]
     },
     "execution_count": 5,
     "metadata": {},
     "output_type": "execute_result"
    }
   ],
   "source": [
    "methods = analysis.get_methods()\n",
    "\n",
    "# The above get_methods() method returns a deprecated type, so we get_method() again below to return a usable type.\n",
    "# External methods don't have available lengths, so we skip past them\n",
    "method_lengths = [method.get_method().get_length() for method in methods if not method.is_external()]\n",
    "\n",
    "data_to_df(method_lengths)"
   ]
  },
  {
   "cell_type": "markdown",
   "metadata": {},
   "source": [
    "## Number of fields in a class"
   ]
  },
  {
   "cell_type": "code",
   "execution_count": 6,
   "metadata": {},
   "outputs": [
    {
     "data": {
      "text/html": [
       "<div>\n",
       "<style scoped>\n",
       "    .dataframe tbody tr th:only-of-type {\n",
       "        vertical-align: middle;\n",
       "    }\n",
       "\n",
       "    .dataframe tbody tr th {\n",
       "        vertical-align: top;\n",
       "    }\n",
       "\n",
       "    .dataframe thead th {\n",
       "        text-align: right;\n",
       "    }\n",
       "</style>\n",
       "<table border=\"1\" class=\"dataframe\">\n",
       "  <thead>\n",
       "    <tr style=\"text-align: right;\">\n",
       "      <th></th>\n",
       "      <th>1</th>\n",
       "      <th>2</th>\n",
       "      <th>3</th>\n",
       "      <th>4</th>\n",
       "      <th>5</th>\n",
       "      <th>6</th>\n",
       "      <th>7</th>\n",
       "      <th>8</th>\n",
       "      <th>9</th>\n",
       "    </tr>\n",
       "  </thead>\n",
       "  <tbody>\n",
       "    <tr>\n",
       "      <th>0</th>\n",
       "      <td>0.201649</td>\n",
       "      <td>0.134933</td>\n",
       "      <td>0.06072</td>\n",
       "      <td>0.051724</td>\n",
       "      <td>0.024738</td>\n",
       "      <td>0.031484</td>\n",
       "      <td>0.023238</td>\n",
       "      <td>0.014993</td>\n",
       "      <td>0.014993</td>\n",
       "    </tr>\n",
       "  </tbody>\n",
       "</table>\n",
       "</div>"
      ],
      "text/plain": [
       "          1         2        3         4         5         6         7  \\\n",
       "0  0.201649  0.134933  0.06072  0.051724  0.024738  0.031484  0.023238   \n",
       "\n",
       "          8         9  \n",
       "0  0.014993  0.014993  "
      ]
     },
     "execution_count": 6,
     "metadata": {},
     "output_type": "execute_result"
    }
   ],
   "source": [
    "classes = analysis.get_internal_classes()\n",
    "\n",
    "fields = [c.get_fields() for c in classes]\n",
    "\n",
    "fields_count = list(map(len, fields))\n",
    "\n",
    "data_to_df(fields_count)"
   ]
  },
  {
   "cell_type": "markdown",
   "metadata": {},
   "source": [
    "## Number of methods in a class"
   ]
  },
  {
   "cell_type": "code",
   "execution_count": 7,
   "metadata": {},
   "outputs": [
    {
     "data": {
      "text/html": [
       "<div>\n",
       "<style scoped>\n",
       "    .dataframe tbody tr th:only-of-type {\n",
       "        vertical-align: middle;\n",
       "    }\n",
       "\n",
       "    .dataframe tbody tr th {\n",
       "        vertical-align: top;\n",
       "    }\n",
       "\n",
       "    .dataframe thead th {\n",
       "        text-align: right;\n",
       "    }\n",
       "</style>\n",
       "<table border=\"1\" class=\"dataframe\">\n",
       "  <thead>\n",
       "    <tr style=\"text-align: right;\">\n",
       "      <th></th>\n",
       "      <th>1</th>\n",
       "      <th>2</th>\n",
       "      <th>3</th>\n",
       "      <th>4</th>\n",
       "      <th>5</th>\n",
       "      <th>6</th>\n",
       "      <th>7</th>\n",
       "      <th>8</th>\n",
       "      <th>9</th>\n",
       "    </tr>\n",
       "  </thead>\n",
       "  <tbody>\n",
       "    <tr>\n",
       "      <th>0</th>\n",
       "      <td>0.28036</td>\n",
       "      <td>0.25937</td>\n",
       "      <td>0.096702</td>\n",
       "      <td>0.073463</td>\n",
       "      <td>0.068966</td>\n",
       "      <td>0.033733</td>\n",
       "      <td>0.035232</td>\n",
       "      <td>0.026987</td>\n",
       "      <td>0.028486</td>\n",
       "    </tr>\n",
       "  </tbody>\n",
       "</table>\n",
       "</div>"
      ],
      "text/plain": [
       "         1        2         3         4         5         6         7  \\\n",
       "0  0.28036  0.25937  0.096702  0.073463  0.068966  0.033733  0.035232   \n",
       "\n",
       "          8         9  \n",
       "0  0.026987  0.028486  "
      ]
     },
     "execution_count": 7,
     "metadata": {},
     "output_type": "execute_result"
    }
   ],
   "source": [
    "classes = analysis.get_internal_classes()\n",
    "methods = [c.get_methods() for c in classes]\n",
    "methods_count = list(map(len, methods))\n",
    "data_to_df(methods_count)"
   ]
  },
  {
   "cell_type": "markdown",
   "metadata": {},
   "source": [
    "## Bytes -> Hex -> Decimal of classes.dex file"
   ]
  },
  {
   "cell_type": "code",
   "execution_count": 8,
   "metadata": {},
   "outputs": [
    {
     "data": {
      "text/html": [
       "<div>\n",
       "<style scoped>\n",
       "    .dataframe tbody tr th:only-of-type {\n",
       "        vertical-align: middle;\n",
       "    }\n",
       "\n",
       "    .dataframe tbody tr th {\n",
       "        vertical-align: top;\n",
       "    }\n",
       "\n",
       "    .dataframe thead th {\n",
       "        text-align: right;\n",
       "    }\n",
       "</style>\n",
       "<table border=\"1\" class=\"dataframe\">\n",
       "  <thead>\n",
       "    <tr style=\"text-align: right;\">\n",
       "      <th></th>\n",
       "      <th>1</th>\n",
       "      <th>2</th>\n",
       "      <th>3</th>\n",
       "      <th>4</th>\n",
       "      <th>5</th>\n",
       "      <th>6</th>\n",
       "      <th>7</th>\n",
       "      <th>8</th>\n",
       "      <th>9</th>\n",
       "    </tr>\n",
       "  </thead>\n",
       "  <tbody>\n",
       "    <tr>\n",
       "      <th>0</th>\n",
       "      <td>0.371352</td>\n",
       "      <td>0.114944</td>\n",
       "      <td>0.053924</td>\n",
       "      <td>0.055969</td>\n",
       "      <td>0.041281</td>\n",
       "      <td>0.037343</td>\n",
       "      <td>0.036714</td>\n",
       "      <td>0.034784</td>\n",
       "      <td>0.043339</td>\n",
       "    </tr>\n",
       "  </tbody>\n",
       "</table>\n",
       "</div>"
      ],
      "text/plain": [
       "          1         2         3         4         5         6         7  \\\n",
       "0  0.371352  0.114944  0.053924  0.055969  0.041281  0.037343  0.036714   \n",
       "\n",
       "          8         9  \n",
       "0  0.034784  0.043339  "
      ]
     },
     "execution_count": 8,
     "metadata": {},
     "output_type": "execute_result"
    }
   ],
   "source": [
    "all_classes = apk.get_all_dex()\n",
    "\n",
    "byte = [int(c, 16) for classes in all_classes for c in classes.hex(sep=' ').split(' ')]\n",
    "\n",
    "data_to_df(byte)"
   ]
  },
  {
   "cell_type": "markdown",
   "metadata": {},
   "source": [
    "## Numbers in Strings\n",
    "This doesn't seem to follow Benford's Law"
   ]
  },
  {
   "cell_type": "code",
   "execution_count": 9,
   "metadata": {},
   "outputs": [
    {
     "data": {
      "text/html": [
       "<div>\n",
       "<style scoped>\n",
       "    .dataframe tbody tr th:only-of-type {\n",
       "        vertical-align: middle;\n",
       "    }\n",
       "\n",
       "    .dataframe tbody tr th {\n",
       "        vertical-align: top;\n",
       "    }\n",
       "\n",
       "    .dataframe thead th {\n",
       "        text-align: right;\n",
       "    }\n",
       "</style>\n",
       "<table border=\"1\" class=\"dataframe\">\n",
       "  <thead>\n",
       "    <tr style=\"text-align: right;\">\n",
       "      <th></th>\n",
       "      <th>1</th>\n",
       "      <th>2</th>\n",
       "      <th>3</th>\n",
       "      <th>4</th>\n",
       "      <th>5</th>\n",
       "      <th>6</th>\n",
       "      <th>7</th>\n",
       "      <th>8</th>\n",
       "      <th>9</th>\n",
       "    </tr>\n",
       "  </thead>\n",
       "  <tbody>\n",
       "    <tr>\n",
       "      <th>0</th>\n",
       "      <td>0.120623</td>\n",
       "      <td>0.145914</td>\n",
       "      <td>0.085603</td>\n",
       "      <td>0.142023</td>\n",
       "      <td>0.040856</td>\n",
       "      <td>0.050584</td>\n",
       "      <td>0.029183</td>\n",
       "      <td>0.029183</td>\n",
       "      <td>0.143969</td>\n",
       "    </tr>\n",
       "  </tbody>\n",
       "</table>\n",
       "</div>"
      ],
      "text/plain": [
       "          1         2         3         4         5         6         7  \\\n",
       "0  0.120623  0.145914  0.085603  0.142023  0.040856  0.050584  0.029183   \n",
       "\n",
       "          8         9  \n",
       "0  0.029183  0.143969  "
      ]
     },
     "execution_count": 9,
     "metadata": {},
     "output_type": "execute_result"
    }
   ],
   "source": [
    "import re\n",
    "\n",
    "strings = analysis.get_strings()\n",
    "strings = [s.get_value() for s in strings]\n",
    "\n",
    "nums = []\n",
    "\n",
    "for string in strings:\n",
    "    n = [int(match) for match in re.findall(r'\\d+', string)]\n",
    "    nums.extend(n)\n",
    "\n",
    "df = data_to_df(nums)\n",
    "df"
   ]
  },
  {
   "cell_type": "markdown",
   "metadata": {},
   "source": [
    "## Timeouts/Durations\n",
    "Interesting to look at, but unsure how this can be used with Benford's Law"
   ]
  },
  {
   "cell_type": "code",
   "execution_count": 10,
   "metadata": {},
   "outputs": [
    {
     "name": "stdout",
     "output_type": "stream",
     "text": [
      "Potential timeout:  \n",
      "    public void run()\n",
      "    {\n",
      "        try {\n",
      "            Thread.sleep(1000);\n",
      "            this.this$0.getApp().runOnUiThread(new de.appplant.cordova.plugin.background.BackgroundModeExt$1$$Lambda$0(this));\n",
      "        } catch (InterruptedException v0) {\n",
      "        }\n",
      "        return;\n",
      "    }\n",
      "\n",
      "Potential timeout:  \n",
      "    public void run()\n",
      "    {\n",
      "        try {\n",
      "            Thread.sleep(2000);\n",
      "            org.apache.cordova.CordovaWebViewImpl.access$200(this.this$1.this$0).getActivity().runOnUiThread(new org.apache.cordova.CordovaWebViewImpl$EngineClient$1$1(this));\n",
      "        } catch (InterruptedException v0) {\n",
      "        }\n",
      "        return;\n",
      "    }\n",
      "\n",
      "Potential timeout string: hintScreenTimeout\n",
      "Potential timeout string: android.media.metadata.DURATION\n",
      "Potential timeout string: timeout\n",
      "Potential timeout string: CordovaWebView: TIMEOUT ERROR!\n",
      "Potential timeout string: LoadUrlTimeoutValue\n",
      "Potential timeout string: window.setTimeout(function(){cordova.require('cordova/plugin/android/polling').pollOnce();},0);\n",
      "Potential timeout string: FadeSplashScreenDuration\n",
      "Attributes: ['com.sec.android.provider.badge.permission.WRITE', 'me.everything.badger.permission.BADGE_COUNT_READ', 'com.huawei.android.launcher.permission.CHANGE_BADGE', 'android.permission.WAKE_LOCK', 'com.huawei.android.launcher.permission.WRITE_SETTINGS', 'android.permission.FOREGROUND_SERVICE', 'me.everything.badger.permission.BADGE_COUNT_WRITE', 'android.permission.WRITE_EXTERNAL_STORAGE', 'android.permission.READ_APP_BADGE', 'com.oppo.launcher.permission.READ_SETTINGS', 'com.huawei.android.launcher.permission.READ_SETTINGS', 'android.permission.REQUEST_IGNORE_BATTERY_OPTIMIZATIONS', 'com.oppo.launcher.permission.WRITE_SETTINGS', 'com.sec.android.provider.badge.permission.READ', 'com.sonymobile.home.permission.PROVIDER_INSERT_BADGE', 'com.anddoes.launcher.permission.UPDATE_COUNT', 'com.htc.launcher.permission.UPDATE_SHORTCUT', 'android.permission.INTERNET', 'com.majeur.launcher.permission.UPDATE_BADGE', 'com.sonyericsson.home.permission.BROADCAST_BADGE', 'com.htc.launcher.permission.READ_SETTINGS']\n",
      "Declared: {}\n"
     ]
    }
   ],
   "source": [
    "for d in dex:\n",
    "    for method in d.get_methods():\n",
    "        if \"Thread.sleep\" in method.get_source():\n",
    "            print(\"Potential timeout: \", method.get_source())\n",
    "\n",
    "strings = analysis.get_strings()\n",
    "\n",
    "for string_id in strings:\n",
    "    if \"timeout\" in string_id.get_value().lower() or \"duration\" in string_id.get_value().lower():\n",
    "        print(\"Potential timeout string:\", string_id.get_value())\n",
    "\n",
    "attributes = apk.get_permissions()\n",
    "declared = apk.get_declared_permissions_details()\n",
    "print(\"Attributes:\", attributes)\n",
    "print(\"Declared:\", declared)"
   ]
  },
  {
   "cell_type": "markdown",
   "metadata": {},
   "source": [
    "The following procedure was taken from [this Github repo](https://github.com/asimswati553/RGB-based-Andorid-Malware-detection/blob/master/APK2File.ipynb) to find intents. "
   ]
  },
  {
   "cell_type": "markdown",
   "metadata": {},
   "source": [
    "## API Calls\n",
    "Maps suspicious external API calls to the internal methods in which they are called. \n",
    "Not currently being analyzed against Benford's Law"
   ]
  },
  {
   "cell_type": "code",
   "execution_count": 1,
   "metadata": {},
   "outputs": [
    {
     "name": "stdout",
     "output_type": "stream",
     "text": [
      "['Ljavax/sql/ConnectionEvent;-><init>', 'Ljava/nio/channels/WritableByteChannel;->close', 'Landroid/service/carrier/CarrierService;->stopSelf', 'Landroid/opengl/Matrix;->getClass', 'Landroid/view/ViewStructure;->setCheckable', 'Landroid/text/method/BaseKeyListener;->getInputType', 'Landroid/provider/MediaStore$Images$Media;->wait', 'Ljava/lang/Runtime;->exec', 'Ljava/lang/System;->loadLibrary', 'Landroid/widget/AdapterView;->refreshDrawableState', 'Landroid/widget/MultiAutoCompleteTextView;->saveHierarchyState', 'Ljava/io/BufferedOutputStream;-><init>', 'Ljava/io/FileOutputStream;-><init>', 'Landroid/app/PendingIntent;->send', 'Landroid/app/AlarmManager;->Set', 'Landroid/app/NativeActivity;->getVolumeControlStream', 'Landroid/app/AcitivityManager;->killBackgroudProcess', 'Landroid/content/pm/PacakageManager;->removePackageFromPrefe', 'Landroid/content/pm/PacakageManager;->getInastallerPackageName', 'Landroid/content/pm/PacakageManager;->getInstalledPackages', 'Landroid/content/pm/PacakageManager;->getInstalledApplications', 'Landroid/content/Intent;->startActivity', 'Landroid/content/Intent;->getAction', 'Landroid/content/Intent;->setDataAndType', 'Landroid/content/ContentResolver;->delete', 'Landroid/content/ContentResolver;->update', 'Landroid/content/ContentResolver;->insert', 'Landroid/content/Context;->getPackageManager', 'Landroid/content/BroadcastReceiver;->abortBroadcast', 'Landroid/database/sqlote/SQLiteDatabase;->execSQL', 'Landroid/media/MediaRecorder;->MediaRecorder', 'Ljava/net/HttpURLConnection;->connect', 'Ljava/net/URLConnection-;>connect', 'Lorg/apache/http/impl/client;->DefaultHttpClient', 'Ljavax/crypto/Cipher;->getInstance', 'Ljavax/crypto/Cipher;->Init', 'Ljavax/crypto/Cipher;->doFinal', 'Landroid/telephony/TelephonyManager;->getDataActivity', 'Landroid/telephony/TelephonyManager;->getCallState', 'Landroid/telephony/TelephonyManager;->getLine1Number', 'Landroid/telephony/TelephonyManager;->getCellLocation', 'Landroid/telephony/TelephonyManager;->getSubscriberId', 'Landroid/telephony/TelephonyManager;->getDeviceId', 'Landroid/telephony/TelephonyManager;->getNetworkType', 'Landroid/telephony/TelephonyManager;->getSimOperator', 'Landroid/telephony/TelephonyManager;->getSimSerialNumber', 'Landroid/telephony/TelephonyManager;->getSimState', 'Landroid/telephony/TelephonyManager;->getSubscriberId', 'Landroid/telephony/SmsManager;->sendTextMessage', 'Landroid/telephony/SmsManager;->sendMultipartTextMessage', 'Landroid/telephony/SmsManager;->sendDataMessage', 'Landroid/telephony/SmsMessage;->getServiceCenterAddress', 'Landroid/telephony/gsm/SmsManager;->sendMultipartTextMessage', 'Landroid/telephony/gsm/SmsManager;->sendDataMessage', 'Landroid/telephony/gsm/SmsManager;->sendTextMessage', 'Landroid/telephony/gsm/SmsManager;->getDisplayOriginatingAddress', 'Landroid/telephony/gsm/SmsManager;->getDisplayMessageBody', 'Landroid/telephony/PhoneStateListener;->onCallStateChanged', 'Ldalvik/system/DexClassLoader;->loadClass', 'Ldalvik/system/PathClassLoader;->loadClass', 'Landroid/net/wifi/WifiInfo;->getSupplicantState', 'Landroid/net/wifi/WifiManager;->getConnectionInfo', 'Landroid/ContentResolver;->query', 'Landroid/location/LocationManager;->getLastKnownLocation']\n"
     ]
    },
    {
     "name": "stderr",
     "output_type": "stream",
     "text": [
      "\n",
      "KeyboardInterrupt\n",
      "\n"
     ]
    }
   ],
   "source": [
    "from collections import defaultdict\n",
    "import json, csv\n",
    "import os\n",
    "import configparser\n",
    "\n",
    "with open('./scores/api_scores.csv', 'r') as f:\n",
    "    suspicious = csv.reader(f)\n",
    "    suspicious = [line[0] for line in suspicious]\n",
    "print(suspicious)\n",
    "\n",
    "def evaluate_api(dex, analysis) -> dict[str, list[str]]:\n",
    "    API_calls = defaultdict(list)\n",
    "    for method in dex[0].get_methods():\n",
    "        method_name = str(method).split('(')[0]\n",
    "        if method_name.split('/')[0] == 'Landroid': #skip android libraries (not sure if these can be edited by developer)\n",
    "            continue\n",
    "        #print(method_name)\n",
    "        for api in analysis.get_external_classes():\n",
    "            for i in api.get_methods():\n",
    "                api_name = str(i.get_method()).split('(')[0] # ignoring the parameters and return type.\n",
    "                if api_name not in suspicious:\n",
    "                    continue\n",
    "                try:\n",
    "                    if i.get_method().get_name() in method.get_source():\n",
    "                        API_calls[api_name].append(method_name)\n",
    "                    #print(\"\\t\", api_name)\n",
    "                except Exception as e:\n",
    "                    pass\n",
    "                    #print(e)\n",
    "    return API_calls\n",
    "\n",
    "config = configparser.ConfigParser(interpolation=configparser.ExtendedInterpolation(), allow_no_value=True)\n",
    "config.read('config.ini')\n",
    "\n",
    "BENIGN_DIR = config['PATHS']['benign_dir']\n",
    "\n",
    "with open(os.path.join(config['PATHS']['apk_dir'], 'data_benign.json'), 'w') as f:\n",
    "    f.write(\"{\\n\")\n",
    "\n",
    "for file in os.listdir(BENIGN_DIR):\n",
    "    file_path = os.path.join(BENIGN_DIR, file)\n",
    "    temp_apk,temp_dex,temp_analysis = AnalyzeAPK(file_path)\n",
    "\n",
    "    print(file)\n",
    "    with open(os.path.join(config['PATHS']['apk_dir'], 'data_benign.json'), 'a') as f:\n",
    "        f.write(f\"\\\"{file}\\\": \")\n",
    "        f.write(json.dumps(evaluate_api(temp_dex, temp_analysis), indent=4))\n",
    "        f.write(\",\\n\")\n",
    "\n",
    "with open(os.path.join(config['PATHS']['apk_dir'], 'data_benign.json'), 'a') as f:\n",
    "    f.write(\"}\")"
   ]
  },
  {
   "cell_type": "markdown",
   "metadata": {},
   "source": [
    "## Other APK properties\n",
    "These, along with API calls above, were used in https://github.com/asimswati553/RGB-based-Andorid-Malware-detection"
   ]
  },
  {
   "cell_type": "code",
   "execution_count": 17,
   "metadata": {},
   "outputs": [
    {
     "name": "stdout",
     "output_type": "stream",
     "text": [
      "['Activities:', 'MainActivity', 'TestActivity', 'HideActivity', 'HideScreenActivity', 'NewActivity']\n"
     ]
    }
   ],
   "source": [
    "permissions = apk.get_permissions() + apk.get_declared_permissions()\n",
    "collected_permissions = []\n",
    "for permission in permissions:\n",
    "    perm = permission.split('.')[-1]\n",
    "    collected_permissions.append(perm)\n",
    "\n",
    "#Activities\n",
    "activities = apk.get_activities()\n",
    "collected_activities = ['Activities:']\n",
    "for activity in activities:\n",
    "    act = activity.split('.')[-1]\n",
    "    collected_activities.append(act)\n",
    "        \n",
    "#Services\n",
    "services = apk.get_services()\n",
    "collected_services = ['Services:']\n",
    "for service in services:\n",
    "    srvc = service.split('.')[-1]\n",
    "    collected_services.append(srvc)\n",
    "        \n",
    "#Recivers\n",
    "receivers = apk.get_receivers()\n",
    "collected_receivers = ['Receivers:']\n",
    "for receiver in receivers:\n",
    "    recevr = receiver.split('.')[-1]\n",
    "    collected_receivers.append(recevr)\n",
    "        \n",
    "#Providers\n",
    "providers = apk.get_providers()\n",
    "collected_providers = ['Providers:']\n",
    "for provider in providers:\n",
    "    collected_providers.append(provider)\n",
    "    \n",
    "#Intents\n",
    "collected_intents = ['Intents:']\n",
    "manifest_list = {'permissions':permissions,'activity' : activities, 'service': services, 'receiver':receivers, 'provider':providers}\n",
    "intents_itemtype = {'activity' : activities, 'service': services, 'receiver':receivers, 'provider':providers}\n",
    "for itemtype, listt in intents_itemtype.items():\n",
    "    for item in listt:\n",
    "        try:\n",
    "            for intnts in apk.get_intent_filters(itemtype, item).values():\n",
    "                for intnt in intnts:\n",
    "                    collected_intents.append(intnt)\n",
    "        except:\n",
    "            pass\n",
    "app_components = collected_activities + collected_services + collected_receivers + collected_providers + collected_intents\n",
    "#print(collected_permissions)\n",
    "print(collected_activities)"
   ]
  },
  {
   "cell_type": "markdown",
   "metadata": {},
   "source": [
    "Using the scoring mechanism from the same repository, we can score the APK"
   ]
  },
  {
   "cell_type": "code",
   "execution_count": null,
   "metadata": {},
   "outputs": [
    {
     "name": "stdout",
     "output_type": "stream",
     "text": [
      "1490\n"
     ]
    }
   ],
   "source": [
    "import csv\n",
    "\n",
    "suspicious = {}\n",
    "with open('./scores/api_scores.csv', 'r') as f:\n",
    "    suspicious = csv.reader(f)\n",
    "    suspicious = {line[0]:int(line[1]) for line in suspicious}\n",
    "\n",
    "score = 0\n",
    "for call in evaluate_api(dex, analysis):\n",
    "    if call in suspicious:\n",
    "        score += suspicious[call]\n",
    "\n",
    "\n",
    "print(score)"
   ]
  }
 ],
 "metadata": {
  "kernelspec": {
   "display_name": "onr-android-malware",
   "language": "python",
   "name": "python3"
  },
  "language_info": {
   "codemirror_mode": {
    "name": "ipython",
    "version": 3
   },
   "file_extension": ".py",
   "mimetype": "text/x-python",
   "name": "python",
   "nbconvert_exporter": "python",
   "pygments_lexer": "ipython3",
   "version": "3.9.18"
  },
  "orig_nbformat": 4
 },
 "nbformat": 4,
 "nbformat_minor": 2
}

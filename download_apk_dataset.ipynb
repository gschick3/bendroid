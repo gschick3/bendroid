{
 "cells": [
  {
   "cell_type": "markdown",
   "metadata": {},
   "source": [
    "# Download APK Dataset"
   ]
  },
  {
   "cell_type": "code",
   "execution_count": 29,
   "metadata": {},
   "outputs": [],
   "source": [
    "import os\n",
    "import configparser\n",
    "\n",
    "config = configparser.ConfigParser(interpolation=configparser.ExtendedInterpolation(), allow_no_value=True)\n",
    "config.read('config.ini')\n",
    "\n",
    "DATASET_URL = 'https://androzoo.uni.lu/static/lists/latest_with-added-date.csv.gz'\n",
    "\n",
    "APK_DIR = config['PATHS']['apk_dir']\n",
    "\n",
    "if not os.path.exists(APK_DIR):\n",
    "    os.makedirs(APK_DIR)\n",
    "\n",
    "DATASET_PATH = os.path.join(APK_DIR, config['ANDROZOO']['datset_name'])"
   ]
  },
  {
   "cell_type": "markdown",
   "metadata": {},
   "source": [
    "### Download"
   ]
  },
  {
   "cell_type": "code",
   "execution_count": 4,
   "metadata": {},
   "outputs": [
    {
     "name": "stderr",
     "output_type": "stream",
     "text": [
      "  0% (0 of 3278234940) |                 | Elapsed Time: 0:00:00 ETA:  --:--:--\n",
      "  0% (16384 of 3278234940) |             | Elapsed Time: 0:00:00 ETA:   6:50:28\n",
      "  0% (32768 of 3278234940) |             | Elapsed Time: 0:00:00 ETA:  12:01:55\n",
      "  0% (49152 of 3278234940) |             | Elapsed Time: 0:00:00 ETA:  10:32:24\n",
      "  0% (57344 of 3278234940) |             | Elapsed Time: 0:00:00 ETA:  11:27:14\n",
      "  0% (81920 of 3278234940) |             | Elapsed Time: 0:00:00 ETA:   9:29:47\n",
      "  0% (106496 of 3278234940) |            | Elapsed Time: 0:00:00 ETA:   8:26:51\n",
      "  0% (131072 of 3278234940) |            | Elapsed Time: 0:00:01 ETA:   7:59:24\n",
      "  0% (163840 of 3278234940) |            | Elapsed Time: 0:00:01 ETA:   7:32:22\n",
      "  0% (196608 of 3278234940) |            | Elapsed Time: 0:00:01 ETA:   7:13:15\n",
      "  0% (229376 of 3278234940) |            | Elapsed Time: 0:00:01 ETA:   6:43:32\n",
      "  0% (278528 of 3278234940) |            | Elapsed Time: 0:00:01 ETA:   5:59:30\n",
      "  0% (311296 of 3278234940) |            | Elapsed Time: 0:00:01 ETA:   5:49:20\n",
      "  0% (352256 of 3278234940) |            | Elapsed Time: 0:00:02 ETA:   5:28:30\n",
      "  0% (401408 of 3278234940) |            | Elapsed Time: 0:00:02 ETA:   5:03:25\n",
      "  0% (450560 of 3278234940) |            | Elapsed Time: 0:00:02 ETA:   4:45:55\n",
      "  0% (499712 of 3278234940) |            | Elapsed Time: 0:00:02 ETA:   4:05:49\n",
      "  0% (557056 of 3278234940) |            | Elapsed Time: 0:00:02 ETA:   3:45:55\n",
      "  0% (622592 of 3278234940) |            | Elapsed Time: 0:00:02 ETA:   3:21:07\n",
      "  0% (688128 of 3278234940) |            | Elapsed Time: 0:00:02 ETA:   3:07:41\n",
      "  0% (753664 of 3278234940) |            | Elapsed Time: 0:00:03 ETA:   2:56:26\n",
      "  0% (819200 of 3278234940) |            | Elapsed Time: 0:00:03 ETA:   2:43:39\n",
      "  0% (884736 of 3278234940) |            | Elapsed Time: 0:00:03 ETA:   2:39:17\n",
      "  0% (950272 of 3278234940) |            | Elapsed Time: 0:00:03 ETA:   2:27:34\n",
      "  0% (1015808 of 3278234940) |           | Elapsed Time: 0:00:03 ETA:   2:18:13\n",
      "  0% (1073152 of 3278234940) |           | Elapsed Time: 0:00:03 ETA:   2:14:06\n",
      "  0% (1138688 of 3278234940) |           | Elapsed Time: 0:00:03 ETA:   2:12:12\n",
      "  0% (1204224 of 3278234940) |           | Elapsed Time: 0:00:04 ETA:   2:05:50\n",
      "  0% (1269760 of 3278234940) |           | Elapsed Time: 0:00:04 ETA:   2:05:23\n",
      "  0% (1335296 of 3278234940) |           | Elapsed Time: 0:00:04 ETA:   2:05:12\n",
      "  0% (1384448 of 3278234940) |           | Elapsed Time: 0:00:04 ETA:   2:09:04\n",
      "  0% (1449984 of 3278234940) |           | Elapsed Time: 0:00:04 ETA:   2:23:27\n",
      "  0% (1515520 of 3278234940) |           | Elapsed Time: 0:00:05 ETA:   2:39:45\n",
      "  0% (1581056 of 3278234940) |           | Elapsed Time: 0:00:05 ETA:   2:44:58\n",
      "  0% (1646592 of 3278234940) |           | Elapsed Time: 0:00:05 ETA:   2:55:31\n",
      "  0% (1712128 of 3278234940) |           | Elapsed Time: 0:00:05 ETA:   2:58:57\n",
      "  0% (1777664 of 3278234940) |           | Elapsed Time: 0:00:06 ETA:   3:12:15\n",
      "  0% (1826816 of 3278234940) |           | Elapsed Time: 0:00:06 ETA:   3:19:49\n",
      "  0% (1892352 of 3278234940) |           | Elapsed Time: 0:00:06 ETA:   3:20:54\n",
      "  0% (1966080 of 3278234940) |           | Elapsed Time: 0:00:06 ETA:   3:12:41\n",
      "  0% (2031616 of 3278234940) |           | Elapsed Time: 0:00:06 ETA:   3:10:49\n",
      "  0% (2080768 of 3278234940) |           | Elapsed Time: 0:00:07 ETA:   3:05:36\n",
      "  0% (2146304 of 3278234940) |           | Elapsed Time: 0:00:07 ETA:   2:56:37\n",
      "  0% (2211840 of 3278234940) |           | Elapsed Time: 0:00:07 ETA:   2:57:19\n",
      "  0% (2277376 of 3278234940) |           | Elapsed Time: 0:00:07 ETA:   2:56:37\n",
      "  0% (2334720 of 3278234940) |           | Elapsed Time: 0:00:07 ETA:   2:52:17\n",
      "  0% (2400256 of 3278234940) |           | Elapsed Time: 0:00:08 ETA:   2:50:48\n",
      "  0% (2465792 of 3278234940) |           | Elapsed Time: 0:00:08 ETA:   2:51:30\n",
      "  0% (2531328 of 3278234940) |           | Elapsed Time: 0:00:08 ETA:   2:47:04\n",
      "  0% (2596864 of 3278234940) |           | Elapsed Time: 0:00:08 ETA:   2:46:53\n",
      "  0% (2662400 of 3278234940) |           | Elapsed Time: 0:00:08 ETA:   2:48:08\n",
      "  0% (2727936 of 3278234940) |           | Elapsed Time: 0:00:09 ETA:   2:48:28\n",
      "  0% (2793472 of 3278234940) |           | Elapsed Time: 0:00:09 ETA:   2:45:25\n",
      "  0% (2850816 of 3278234940) |           | Elapsed Time: 0:00:09 ETA:   2:46:57\n",
      "  0% (2916352 of 3278234940) |           | Elapsed Time: 0:00:09 ETA:   2:46:00\n",
      "  0% (2981888 of 3278234940) |           | Elapsed Time: 0:00:09 ETA:   2:49:36\n"
     ]
    },
    {
     "ename": "KeyboardInterrupt",
     "evalue": "",
     "output_type": "error",
     "traceback": [
      "\u001b[1;31m---------------------------------------------------------------------------\u001b[0m",
      "\u001b[1;31mKeyboardInterrupt\u001b[0m                         Traceback (most recent call last)",
      "\u001b[1;32mc:\\Users\\gschi\\Documents\\Git\\Bendroid\\download_apks.ipynb Cell 4\u001b[0m line \u001b[0;36m1\n\u001b[0;32m     <a href='vscode-notebook-cell:/c%3A/Users/gschi/Documents/Git/Bendroid/download_apks.ipynb#W3sZmlsZQ%3D%3D?line=15'>16</a>\u001b[0m         pbar\u001b[39m.\u001b[39mfinish()\n\u001b[0;32m     <a href='vscode-notebook-cell:/c%3A/Users/gschi/Documents/Git/Bendroid/download_apks.ipynb#W3sZmlsZQ%3D%3D?line=16'>17</a>\u001b[0m         pbar \u001b[39m=\u001b[39m \u001b[39mNone\u001b[39;00m\n\u001b[1;32m---> <a href='vscode-notebook-cell:/c%3A/Users/gschi/Documents/Git/Bendroid/download_apks.ipynb#W3sZmlsZQ%3D%3D?line=18'>19</a>\u001b[0m path, headers \u001b[39m=\u001b[39m urlretrieve(url, filename, show_progress_bar)\n",
      "File \u001b[1;32mc:\\Users\\gschi\\miniconda3\\envs\\onr-android-malware\\Lib\\urllib\\request.py:270\u001b[0m, in \u001b[0;36murlretrieve\u001b[1;34m(url, filename, reporthook, data)\u001b[0m\n\u001b[0;32m    267\u001b[0m     reporthook(blocknum, bs, size)\n\u001b[0;32m    269\u001b[0m \u001b[39mwhile\u001b[39;00m \u001b[39mTrue\u001b[39;00m:\n\u001b[1;32m--> 270\u001b[0m     block \u001b[39m=\u001b[39m fp\u001b[39m.\u001b[39;49mread(bs)\n\u001b[0;32m    271\u001b[0m     \u001b[39mif\u001b[39;00m \u001b[39mnot\u001b[39;00m block:\n\u001b[0;32m    272\u001b[0m         \u001b[39mbreak\u001b[39;00m\n",
      "File \u001b[1;32mc:\\Users\\gschi\\miniconda3\\envs\\onr-android-malware\\Lib\\http\\client.py:466\u001b[0m, in \u001b[0;36mHTTPResponse.read\u001b[1;34m(self, amt)\u001b[0m\n\u001b[0;32m    463\u001b[0m \u001b[39mif\u001b[39;00m \u001b[39mself\u001b[39m\u001b[39m.\u001b[39mlength \u001b[39mis\u001b[39;00m \u001b[39mnot\u001b[39;00m \u001b[39mNone\u001b[39;00m \u001b[39mand\u001b[39;00m amt \u001b[39m>\u001b[39m \u001b[39mself\u001b[39m\u001b[39m.\u001b[39mlength:\n\u001b[0;32m    464\u001b[0m     \u001b[39m# clip the read to the \"end of response\"\u001b[39;00m\n\u001b[0;32m    465\u001b[0m     amt \u001b[39m=\u001b[39m \u001b[39mself\u001b[39m\u001b[39m.\u001b[39mlength\n\u001b[1;32m--> 466\u001b[0m s \u001b[39m=\u001b[39m \u001b[39mself\u001b[39m\u001b[39m.\u001b[39mfp\u001b[39m.\u001b[39mread(amt)\n\u001b[0;32m    467\u001b[0m \u001b[39mif\u001b[39;00m \u001b[39mnot\u001b[39;00m s \u001b[39mand\u001b[39;00m amt:\n\u001b[0;32m    468\u001b[0m     \u001b[39m# Ideally, we would raise IncompleteRead if the content-length\u001b[39;00m\n\u001b[0;32m    469\u001b[0m     \u001b[39m# wasn't satisfied, but it might break compatibility.\u001b[39;00m\n\u001b[0;32m    470\u001b[0m     \u001b[39mself\u001b[39m\u001b[39m.\u001b[39m_close_conn()\n",
      "File \u001b[1;32mc:\\Users\\gschi\\miniconda3\\envs\\onr-android-malware\\Lib\\socket.py:706\u001b[0m, in \u001b[0;36mSocketIO.readinto\u001b[1;34m(self, b)\u001b[0m\n\u001b[0;32m    704\u001b[0m \u001b[39mwhile\u001b[39;00m \u001b[39mTrue\u001b[39;00m:\n\u001b[0;32m    705\u001b[0m     \u001b[39mtry\u001b[39;00m:\n\u001b[1;32m--> 706\u001b[0m         \u001b[39mreturn\u001b[39;00m \u001b[39mself\u001b[39;49m\u001b[39m.\u001b[39;49m_sock\u001b[39m.\u001b[39;49mrecv_into(b)\n\u001b[0;32m    707\u001b[0m     \u001b[39mexcept\u001b[39;00m timeout:\n\u001b[0;32m    708\u001b[0m         \u001b[39mself\u001b[39m\u001b[39m.\u001b[39m_timeout_occurred \u001b[39m=\u001b[39m \u001b[39mTrue\u001b[39;00m\n",
      "File \u001b[1;32mc:\\Users\\gschi\\miniconda3\\envs\\onr-android-malware\\Lib\\ssl.py:1311\u001b[0m, in \u001b[0;36mSSLSocket.recv_into\u001b[1;34m(self, buffer, nbytes, flags)\u001b[0m\n\u001b[0;32m   1307\u001b[0m     \u001b[39mif\u001b[39;00m flags \u001b[39m!=\u001b[39m \u001b[39m0\u001b[39m:\n\u001b[0;32m   1308\u001b[0m         \u001b[39mraise\u001b[39;00m \u001b[39mValueError\u001b[39;00m(\n\u001b[0;32m   1309\u001b[0m           \u001b[39m\"\u001b[39m\u001b[39mnon-zero flags not allowed in calls to recv_into() on \u001b[39m\u001b[39m%s\u001b[39;00m\u001b[39m\"\u001b[39m \u001b[39m%\u001b[39m\n\u001b[0;32m   1310\u001b[0m           \u001b[39mself\u001b[39m\u001b[39m.\u001b[39m\u001b[39m__class__\u001b[39m)\n\u001b[1;32m-> 1311\u001b[0m     \u001b[39mreturn\u001b[39;00m \u001b[39mself\u001b[39;49m\u001b[39m.\u001b[39;49mread(nbytes, buffer)\n\u001b[0;32m   1312\u001b[0m \u001b[39melse\u001b[39;00m:\n\u001b[0;32m   1313\u001b[0m     \u001b[39mreturn\u001b[39;00m \u001b[39msuper\u001b[39m()\u001b[39m.\u001b[39mrecv_into(buffer, nbytes, flags)\n",
      "File \u001b[1;32mc:\\Users\\gschi\\miniconda3\\envs\\onr-android-malware\\Lib\\ssl.py:1167\u001b[0m, in \u001b[0;36mSSLSocket.read\u001b[1;34m(self, len, buffer)\u001b[0m\n\u001b[0;32m   1165\u001b[0m \u001b[39mtry\u001b[39;00m:\n\u001b[0;32m   1166\u001b[0m     \u001b[39mif\u001b[39;00m buffer \u001b[39mis\u001b[39;00m \u001b[39mnot\u001b[39;00m \u001b[39mNone\u001b[39;00m:\n\u001b[1;32m-> 1167\u001b[0m         \u001b[39mreturn\u001b[39;00m \u001b[39mself\u001b[39;49m\u001b[39m.\u001b[39;49m_sslobj\u001b[39m.\u001b[39;49mread(\u001b[39mlen\u001b[39;49m, buffer)\n\u001b[0;32m   1168\u001b[0m     \u001b[39melse\u001b[39;00m:\n\u001b[0;32m   1169\u001b[0m         \u001b[39mreturn\u001b[39;00m \u001b[39mself\u001b[39m\u001b[39m.\u001b[39m_sslobj\u001b[39m.\u001b[39mread(\u001b[39mlen\u001b[39m)\n",
      "\u001b[1;31mKeyboardInterrupt\u001b[0m: "
     ]
    }
   ],
   "source": [
    "from urllib.request import urlretrieve\n",
    "import progressbar\n",
    "\n",
    "pbar = None\n",
    "\n",
    "def show_progress_bar(block_num, block_size, total_size):\n",
    "    global pbar\n",
    "    if pbar is None:\n",
    "        pbar = progressbar.ProgressBar(max_value=total_size)\n",
    "        pbar.start()\n",
    "\n",
    "    downloaded = block_num * block_size\n",
    "    if downloaded < total_size:\n",
    "        pbar.update(downloaded)\n",
    "    else:\n",
    "        pbar.finish()\n",
    "        pbar = None\n",
    "\n",
    "if os.path.exists(DATASET_PATH+'.csv.gz'):\n",
    "    path, headers = urlretrieve(DATASET_URL, DATASET_PATH+'.csv.gz', show_progress_bar)"
   ]
  },
  {
   "cell_type": "markdown",
   "metadata": {},
   "source": [
    "### Unzip"
   ]
  },
  {
   "cell_type": "code",
   "execution_count": null,
   "metadata": {},
   "outputs": [],
   "source": [
    "import gzip\n",
    "import shutil\n",
    "import os\n",
    "\n",
    "if os.path.exists(DATASET_PATH+'.csv.gz'):\n",
    "    print(\"Unzipping...\")\n",
    "    with gzip.open(DATASET_PATH+'.csv.gz', 'rb') as f_in:\n",
    "        with open(DATASET_PATH+'.csv', 'wb') as f_out:\n",
    "            shutil.copyfileobj(f_in, f_out)\n",
    "\n",
    "    os.remove(DATASET_PATH+'.csv.gz') # remove gzip file once it is successfully unzipped\n",
    "\n",
    "    print(\"Done.\")"
   ]
  },
  {
   "cell_type": "markdown",
   "metadata": {},
   "source": [
    "### Convert to HDF5"
   ]
  },
  {
   "cell_type": "code",
   "execution_count": 3,
   "metadata": {},
   "outputs": [
    {
     "name": "stdout",
     "output_type": "stream",
     "text": [
      "CSV Shape: (23298026, 12)\n"
     ]
    },
    {
     "name": "stderr",
     "output_type": "stream",
     "text": [
      "c:\\Users\\gschi\\miniconda3\\envs\\test\\lib\\site-packages\\vaex\\hdf5\\writer.py:261: RuntimeWarning: invalid value encountered in cast\n",
      "  self.to_array[target_set_item] = values\n"
     ]
    },
    {
     "name": "stdout",
     "output_type": "stream",
     "text": [
      "HDF5 Shape: (23298026, 12)\n"
     ]
    }
   ],
   "source": [
    "import vaex\n",
    "import os\n",
    "\n",
    "if not os.path.exists(DATASET_PATH+'.hdf5'):\n",
    "    hdf5 = vaex.open(DATASET_PATH+'.csv')\n",
    "    print(\"CSV Shape:\", hdf5.shape)\n",
    "    hdf5.export(DATASET_PATH+'.hdf5')\n",
    "    hdf5 = vaex.open(DATASET_PATH+'.hdf5')\n",
    "    print(\"HDF5 Shape:\", hdf5.shape)"
   ]
  },
  {
   "cell_type": "markdown",
   "metadata": {},
   "source": [
    "### Separate Benign and Malign Samples"
   ]
  },
  {
   "cell_type": "code",
   "execution_count": 33,
   "metadata": {},
   "outputs": [],
   "source": [
    "import vaex\n",
    "\n",
    "apk_list = vaex.open(DATASET_PATH+'.hdf5')\n",
    "\n",
    "benign = apk_list[apk_list['vt_detection'] == 0.0]\n",
    "benign = benign.head(10)\n",
    "\n",
    "malign = apk_list[apk_list['vt_detection'] > 5]\n",
    "malign = malign.head(10)\n",
    "\n",
    "sample = vaex.concat([benign, malign])\n",
    "sample.export_csv(os.path.join(APK_DIR, 'sample.csv'))"
   ]
  }
 ],
 "metadata": {
  "kernelspec": {
   "display_name": "onr-android-malware",
   "language": "python",
   "name": "python3"
  },
  "language_info": {
   "codemirror_mode": {
    "name": "ipython",
    "version": 3
   },
   "file_extension": ".py",
   "mimetype": "text/x-python",
   "name": "python",
   "nbconvert_exporter": "python",
   "pygments_lexer": "ipython3",
   "version": "3.9.18"
  },
  "orig_nbformat": 4
 },
 "nbformat": 4,
 "nbformat_minor": 2
}
